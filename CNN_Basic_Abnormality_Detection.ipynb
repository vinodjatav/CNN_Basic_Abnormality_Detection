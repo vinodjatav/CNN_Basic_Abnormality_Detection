{
 "cells": [
  {
   "cell_type": "markdown",
   "metadata": {
    "colab_type": "text",
    "id": "ATWkSW05GS4P"
   },
   "source": [
    "Using Pytorch , I create CNN Model for abnormality detection in CT Scan Images\n",
    "Loading the data - first  \n",
    "\n",
    "Our data is stored on google drive in zipped format.I am using google Colab notebook to build the model.\n",
    "I shall be directly downloading the zipped file from google using shareable link and the extracting the file using relevent packages.\n",
    "\n"
   ]
  },
  {
   "cell_type": "code",
   "execution_count": null,
   "metadata": {
    "colab": {},
    "colab_type": "code",
    "id": "vKmNe6sTE22V"
   },
   "outputs": [],
   "source": [
    "## direct input from google drive\n",
    "url=\"https://drive.google.com/file/d/1jncfX2ov-k4tsM-2cPUnGRWiZvD7qXCK/view?usp=sharing\""
   ]
  },
  {
   "cell_type": "code",
   "execution_count": null,
   "metadata": {
    "colab": {
     "base_uri": "https://localhost:8080/",
     "height": 88
    },
    "colab_type": "code",
    "id": "3ia9tFMQDT5w",
    "outputId": "66476369-f761-485a-a34a-ae45a1098ad8"
   },
   "outputs": [
    {
     "name": "stdout",
     "output_type": "stream",
     "text": [
      "Downloading 1jncfX2ov-k4tsM-2cPUnGRWiZvD7qXCK into /content/sample_dataset_for_testing.tar.gz... Done.\n",
      "Unzipping..."
     ]
    },
    {
     "name": "stderr",
     "output_type": "stream",
     "text": [
      "/usr/local/lib/python3.6/dist-packages/google_drive_downloader/google_drive_downloader.py:73: UserWarning: Ignoring `unzip` since \"1jncfX2ov-k4tsM-2cPUnGRWiZvD7qXCK\" does not look like a valid zip file\n",
      "  warnings.warn('Ignoring `unzip` since \"{}\" does not look like a valid zip file'.format(file_id))\n"
     ]
    }
   ],
   "source": [
    "from google_drive_downloader import GoogleDriveDownloader as gdd\n",
    "gdd.download_file_from_google_drive(file_id='1jncfX2ov-k4tsM-2cPUnGRWiZvD7qXCK',\n",
    "                                    dest_path='/content/sample_dataset_for_testing.tar.gz',\n",
    "                                    unzip=True)\n",
    "\n",
    "\n",
    "path_to_zip_file = './content/sample_dataset_for_testing.tar.gz'\n",
    "directory_to_extract_to = './content/sample_dataset_for_testing'"
   ]
  },
  {
   "cell_type": "code",
   "execution_count": null,
   "metadata": {
    "colab": {},
    "colab_type": "code",
    "id": "4LxZPCriDX5I"
   },
   "outputs": [],
   "source": [
    "##Extract the tar file using tarfile package\n",
    "## inatll the package uisng command\n",
    "###!pip3 install tarfile\n",
    "import tarfile\n",
    "tf = tarfile.open(\"/content/sample_dataset_for_testing.tar.gz\", mode='r:gz')\n",
    "tf.extractall()\n"
   ]
  },
  {
   "cell_type": "markdown",
   "metadata": {
    "colab_type": "text",
    "id": "8cbtX-euJkmF"
   },
   "source": [
    "## Importing some libraries\n"
   ]
  },
  {
   "cell_type": "code",
   "execution_count": null,
   "metadata": {
    "colab": {},
    "colab_type": "code",
    "id": "5I8QqsL3aPmm"
   },
   "outputs": [],
   "source": [
    "%matplotlib inline\n",
    "\n",
    "import numpy as np # linear algebra\n",
    "import pandas as pd # data processing, CSV file I/O (e.g. pd.read_csv)\n",
    "\n",
    "import os\n",
    "\n",
    "#!pip install tifffile\n",
    "import tifffile as tiff\n",
    "from sklearn.model_selection import train_test_split\n",
    "import pandas as pd\n",
    "import numpy as np\n",
    "import shutil \n",
    "\n"
   ]
  },
  {
   "cell_type": "code",
   "execution_count": null,
   "metadata": {
    "colab": {},
    "colab_type": "code",
    "id": "L7OTJYnOJv5V"
   },
   "outputs": [],
   "source": [
    "\n",
    "# Some constants \n",
    "INPUT_FOLDER = '/content/sample_dataset_for_testing/fullsampledata/'\n",
    "patients = os.listdir(INPUT_FOLDER)\n",
    "patients.sort()\n",
    "## remove file to clear disk space\n",
    "!rm -rf sample_dataset_for_testing.tar.gz"
   ]
  },
  {
   "cell_type": "markdown",
   "metadata": {
    "colab_type": "text",
    "id": "eiYwBMczJ3P3"
   },
   "source": [
    "## Data Pre-processing:"
   ]
  },
  {
   "cell_type": "code",
   "execution_count": null,
   "metadata": {
    "colab": {},
    "colab_type": "code",
    "id": "vm1DAS9rambw"
   },
   "outputs": [],
   "source": [
    "\n",
    "slices = []\n",
    "lis2=[]\n",
    "lis3=[]\n",
    "patients=[]\n",
    "dirname = INPUT_FOLDER\n",
    "final = []\n",
    "for dirnam in os.listdir(dirname):\n",
    "  for d2name in os.listdir(dirname+ '/' +dirnam):\n",
    "    \n",
    "    for fname in os.listdir(dirname+ '/' +dirnam+ '/' +d2name):\n",
    "      lis2.append(fname)\n",
    "      lis3.append(dirname+ '/' +dirnam+ '/' +d2name+'/'+fname)\n",
    "      patients.append(d2name)\n"
   ]
  },
  {
   "cell_type": "code",
   "execution_count": null,
   "metadata": {
    "colab": {
     "base_uri": "https://localhost:8080/",
     "height": 34
    },
    "colab_type": "code",
    "id": "wlTBH3ohlBT4",
    "outputId": "0ecfbadf-310f-4193-adf0-69fc6c0e3fba"
   },
   "outputs": [
    {
     "data": {
      "text/plain": [
       "'1.3.6.1.4.1.14519.5.2.1.6279.6001.129055977637338639741695800950'"
      ]
     },
     "execution_count": 11,
     "metadata": {
      "tags": []
     },
     "output_type": "execute_result"
    }
   ],
   "source": [
    "patients[1]"
   ]
  },
  {
   "cell_type": "code",
   "execution_count": null,
   "metadata": {
    "colab": {},
    "colab_type": "code",
    "id": "HrIdn36bRg-_"
   },
   "outputs": [],
   "source": [
    "\n",
    "df=pd.DataFrame({'image':lis2, 'location':lis3, 'patients': patients})\n",
    "df.head()\n",
    "df4=df[df['image'].str.contains('_mask')==False]\n",
    "df2=df[df['image'].str.contains('_mask')==True]\n",
    "df3=df2[\"image\"].str.split(\"_\", n = 1, expand = True)\n",
    "df3['location']=df2['location']\n",
    "df3[1]=df2['patients']\n",
    "df3[0]=df3[0].astype(str) + '.tiff'\n"
   ]
  },
  {
   "cell_type": "code",
   "execution_count": null,
   "metadata": {
    "colab": {
     "base_uri": "https://localhost:8080/",
     "height": 204
    },
    "colab_type": "code",
    "id": "ln7eK9rd_z-E",
    "outputId": "45ab6f20-fa4c-4f6a-9f22-1a29f2c00a24"
   },
   "outputs": [
    {
     "data": {
      "text/html": [
       "<div>\n",
       "<style scoped>\n",
       "    .dataframe tbody tr th:only-of-type {\n",
       "        vertical-align: middle;\n",
       "    }\n",
       "\n",
       "    .dataframe tbody tr th {\n",
       "        vertical-align: top;\n",
       "    }\n",
       "\n",
       "    .dataframe thead th {\n",
       "        text-align: right;\n",
       "    }\n",
       "</style>\n",
       "<table border=\"1\" class=\"dataframe\">\n",
       "  <thead>\n",
       "    <tr style=\"text-align: right;\">\n",
       "      <th></th>\n",
       "      <th>image</th>\n",
       "      <th>patients</th>\n",
       "      <th>location</th>\n",
       "    </tr>\n",
       "  </thead>\n",
       "  <tbody>\n",
       "    <tr>\n",
       "      <th>14</th>\n",
       "      <td>258.tiff</td>\n",
       "      <td>1.3.6.1.4.1.14519.5.2.1.6279.6001.129055977637...</td>\n",
       "      <td>/content/sample_dataset_for_testing/fullsample...</td>\n",
       "    </tr>\n",
       "    <tr>\n",
       "      <th>112</th>\n",
       "      <td>262.tiff</td>\n",
       "      <td>1.3.6.1.4.1.14519.5.2.1.6279.6001.129055977637...</td>\n",
       "      <td>/content/sample_dataset_for_testing/fullsample...</td>\n",
       "    </tr>\n",
       "    <tr>\n",
       "      <th>151</th>\n",
       "      <td>259.tiff</td>\n",
       "      <td>1.3.6.1.4.1.14519.5.2.1.6279.6001.129055977637...</td>\n",
       "      <td>/content/sample_dataset_for_testing/fullsample...</td>\n",
       "    </tr>\n",
       "    <tr>\n",
       "      <th>175</th>\n",
       "      <td>256.tiff</td>\n",
       "      <td>1.3.6.1.4.1.14519.5.2.1.6279.6001.129055977637...</td>\n",
       "      <td>/content/sample_dataset_for_testing/fullsample...</td>\n",
       "    </tr>\n",
       "    <tr>\n",
       "      <th>179</th>\n",
       "      <td>260.tiff</td>\n",
       "      <td>1.3.6.1.4.1.14519.5.2.1.6279.6001.129055977637...</td>\n",
       "      <td>/content/sample_dataset_for_testing/fullsample...</td>\n",
       "    </tr>\n",
       "  </tbody>\n",
       "</table>\n",
       "</div>"
      ],
      "text/plain": [
       "        image                                           patients  \\\n",
       "14   258.tiff  1.3.6.1.4.1.14519.5.2.1.6279.6001.129055977637...   \n",
       "112  262.tiff  1.3.6.1.4.1.14519.5.2.1.6279.6001.129055977637...   \n",
       "151  259.tiff  1.3.6.1.4.1.14519.5.2.1.6279.6001.129055977637...   \n",
       "175  256.tiff  1.3.6.1.4.1.14519.5.2.1.6279.6001.129055977637...   \n",
       "179  260.tiff  1.3.6.1.4.1.14519.5.2.1.6279.6001.129055977637...   \n",
       "\n",
       "                                              location  \n",
       "14   /content/sample_dataset_for_testing/fullsample...  \n",
       "112  /content/sample_dataset_for_testing/fullsample...  \n",
       "151  /content/sample_dataset_for_testing/fullsample...  \n",
       "175  /content/sample_dataset_for_testing/fullsample...  \n",
       "179  /content/sample_dataset_for_testing/fullsample...  "
      ]
     },
     "execution_count": 53,
     "metadata": {
      "tags": []
     },
     "output_type": "execute_result"
    }
   ],
   "source": [
    "df3.rename(columns={0:'image', 1:'patients'}, inplace=True)\n",
    "df3.head()"
   ]
  },
  {
   "cell_type": "code",
   "execution_count": null,
   "metadata": {
    "colab": {
     "base_uri": "https://localhost:8080/",
     "height": 204
    },
    "colab_type": "code",
    "id": "yl1rLSIsJ3As",
    "outputId": "d005366c-cf73-4d40-a990-8d1d8d34f0ec"
   },
   "outputs": [
    {
     "data": {
      "text/html": [
       "<div>\n",
       "<style scoped>\n",
       "    .dataframe tbody tr th:only-of-type {\n",
       "        vertical-align: middle;\n",
       "    }\n",
       "\n",
       "    .dataframe tbody tr th {\n",
       "        vertical-align: top;\n",
       "    }\n",
       "\n",
       "    .dataframe thead th {\n",
       "        text-align: right;\n",
       "    }\n",
       "</style>\n",
       "<table border=\"1\" class=\"dataframe\">\n",
       "  <thead>\n",
       "    <tr style=\"text-align: right;\">\n",
       "      <th></th>\n",
       "      <th>image</th>\n",
       "      <th>location</th>\n",
       "      <th>patients</th>\n",
       "    </tr>\n",
       "  </thead>\n",
       "  <tbody>\n",
       "    <tr>\n",
       "      <th>0</th>\n",
       "      <td>181.tiff</td>\n",
       "      <td>/content/sample_dataset_for_testing/fullsample...</td>\n",
       "      <td>1.3.6.1.4.1.14519.5.2.1.6279.6001.129055977637...</td>\n",
       "    </tr>\n",
       "    <tr>\n",
       "      <th>1</th>\n",
       "      <td>41.tiff</td>\n",
       "      <td>/content/sample_dataset_for_testing/fullsample...</td>\n",
       "      <td>1.3.6.1.4.1.14519.5.2.1.6279.6001.129055977637...</td>\n",
       "    </tr>\n",
       "    <tr>\n",
       "      <th>2</th>\n",
       "      <td>70.tiff</td>\n",
       "      <td>/content/sample_dataset_for_testing/fullsample...</td>\n",
       "      <td>1.3.6.1.4.1.14519.5.2.1.6279.6001.129055977637...</td>\n",
       "    </tr>\n",
       "    <tr>\n",
       "      <th>3</th>\n",
       "      <td>302.tiff</td>\n",
       "      <td>/content/sample_dataset_for_testing/fullsample...</td>\n",
       "      <td>1.3.6.1.4.1.14519.5.2.1.6279.6001.129055977637...</td>\n",
       "    </tr>\n",
       "    <tr>\n",
       "      <th>4</th>\n",
       "      <td>79.tiff</td>\n",
       "      <td>/content/sample_dataset_for_testing/fullsample...</td>\n",
       "      <td>1.3.6.1.4.1.14519.5.2.1.6279.6001.129055977637...</td>\n",
       "    </tr>\n",
       "  </tbody>\n",
       "</table>\n",
       "</div>"
      ],
      "text/plain": [
       "      image                                           location  \\\n",
       "0  181.tiff  /content/sample_dataset_for_testing/fullsample...   \n",
       "1   41.tiff  /content/sample_dataset_for_testing/fullsample...   \n",
       "2   70.tiff  /content/sample_dataset_for_testing/fullsample...   \n",
       "3  302.tiff  /content/sample_dataset_for_testing/fullsample...   \n",
       "4   79.tiff  /content/sample_dataset_for_testing/fullsample...   \n",
       "\n",
       "                                            patients  \n",
       "0  1.3.6.1.4.1.14519.5.2.1.6279.6001.129055977637...  \n",
       "1  1.3.6.1.4.1.14519.5.2.1.6279.6001.129055977637...  \n",
       "2  1.3.6.1.4.1.14519.5.2.1.6279.6001.129055977637...  \n",
       "3  1.3.6.1.4.1.14519.5.2.1.6279.6001.129055977637...  \n",
       "4  1.3.6.1.4.1.14519.5.2.1.6279.6001.129055977637...  "
      ]
     },
     "execution_count": 54,
     "metadata": {
      "tags": []
     },
     "output_type": "execute_result"
    }
   ],
   "source": [
    "df4.head()"
   ]
  },
  {
   "cell_type": "code",
   "execution_count": null,
   "metadata": {
    "colab": {},
    "colab_type": "code",
    "id": "njILXgyBbUL7"
   },
   "outputs": [],
   "source": [
    "\n",
    "df3.drop(['image', 'patients'], axis=1)\n",
    "df4.drop(['image', 'patients'], axis=1)\n",
    "\n",
    "#suffle the data\n",
    "df4= df4.sample(frac=1).reset_index(drop=True)\n",
    "\n",
    "\n",
    "abnormal_train,abnormal_test,normal_train,normal_test=train_test_split(df3,df4[:62],test_size=0.25,random_state=0)\n",
    "abnormal_train = abnormal_train.reset_index(drop=True)\n",
    "abnormal_test = abnormal_test.reset_index(drop=True)\n",
    "normal_train = normal_train.reset_index(drop=True)\n",
    "normal_test = normal_test.reset_index(drop=True)\n",
    "import os \n",
    "destination='/home/vinod/Desktop/CTScan/sample_testdata/train/anormal/'\n",
    "count_file=0\n",
    "al=0\n",
    "for al in range(abnormal_train.shape[0]):\n",
    "    src=abnormal_train.location[al]\n",
    "    if not os.path.exists(src):\n",
    "        shutil.copy(src,destination)\n",
    "    else:\n",
    "        count_file=count_file+1\n",
    "        destination='/home/vinod/Desktop/CTScan/sample_testdata/train/abnormal/'+str(count_file)+'.tiff'\n",
    "        shutil.copy(src,destination)\n",
    "        \n",
    "destination='/home/vinod/Desktop/CTScan/sample_testdata/test/abnormal/'\n",
    "count_file=0\n",
    "al=0\n",
    "for al in range(abnormal_test.shape[0]):\n",
    "    src=abnormal_test.location[al]\n",
    "    if not os.path.exists(src):\n",
    "        shutil.copy(src,destination)\n",
    "    else:\n",
    "        count_file=count_file+1\n",
    "        destination='/home/vinod/Desktop/CTScan/sample_testdata/test/abnormal/'+str(count_file)+'.tiff'\n",
    "        shutil.copy(src,destination)\n",
    "al=0       \n",
    "destination='/home/vinod/Desktop/CTScan/sample_testdata/train/normal/'\n",
    "count_file=0\n",
    "for al in range(normal_train.shape[0]):\n",
    "    src=normal_train.location[al]\n",
    "    if not os.path.exists(src):\n",
    "        shutil.copy(src,destination)\n",
    "    else:\n",
    "        count_file=count_file+1\n",
    "        destination='/home/vinod/Desktop/CTScan/sample_testdata/train/normal/'+str(count_file)+'.tiff'\n",
    "        shutil.copy(src,destination)\n",
    "\n",
    "destination='/home/vinod/Desktop/CTScan/sample_testdata/test/normal/'\n",
    "al=0\n",
    "count_file=0\n",
    "for al in range(normal_test.shape[0]):\n",
    "    src=normal_test.location[al]\n",
    "    if not os.path.exists(src):\n",
    "        shutil.copy(src,destination)\n",
    "    else:\n",
    "        count_file=count_file+1\n",
    "        destination='/home/vinod/Desktop/CTScan/sample_testdata/test/normal/'+str(count_file)+'.tiff'\n",
    "        shutil.copy(src,destination)\n"
   ]
  },
  {
   "cell_type": "code",
   "execution_count": null,
   "metadata": {
    "colab": {},
    "colab_type": "code",
    "id": "cXyQAKkRbjX7"
   },
   "outputs": [],
   "source": [
    "# Loading the data - DataLoader\n",
    "\n",
    "import torch\n",
    "#use_cuda = True\n",
    "\n",
    "import torchvision\n",
    "train_dataset = torchvision.datasets.ImageFolder(\n",
    "    root='/home/vinod/Desktop/CTScan/sample_testdata/train/',\n",
    "    transform=torchvision.transforms.ToTensor()\n",
    ")\n",
    "train_loader =  torch.utils.data.DataLoader(\n",
    "    train_dataset,\n",
    "    batch_size=16,\n",
    "    num_workers=1\n",
    ")\n",
    "valid_dataset = torchvision.datasets.ImageFolder(\n",
    "    root='/home/vinod/Desktop/CTScan/sample_testdata/test/',\n",
    "    transform=torchvision.transforms.ToTensor()\n",
    ")\n",
    "valid_loader =  torch.utils.data.DataLoader(\n",
    "    train_dataset,\n",
    "    batch_size=16,\n",
    "    num_workers=1\n",
    ")\n",
    "\n"
   ]
  },
  {
   "cell_type": "markdown",
   "metadata": {
    "colab_type": "text",
    "id": "NtaXd6NkQjsF"
   },
   "source": [
    "## Visualize one slice"
   ]
  },
  {
   "cell_type": "code",
   "execution_count": null,
   "metadata": {
    "colab": {
     "base_uri": "https://localhost:8080/",
     "height": 286
    },
    "colab_type": "code",
    "id": "KW8q48mNJOYy",
    "outputId": "e7f0e51b-228f-475a-a467-bfefbc406eae"
   },
   "outputs": [
    {
     "data": {
      "text/plain": [
       "<matplotlib.image.AxesImage at 0x7f97d3e862e8>"
      ]
     },
     "execution_count": 2,
     "metadata": {
      "tags": []
     },
     "output_type": "execute_result"
    },
    {
     "data": {
      "image/png": "[encoded data removed]",
      "text/plain": [
       "<Figure size 432x288 with 1 Axes>"
      ]
     },
     "metadata": {
      "tags": []
     },
     "output_type": "display_data"
    }
   ],
   "source": [
    "from skimage import io\n",
    "import matplotlib.pyplot as plt\n",
    "\n",
    "struct_arr = io.imread(\"/home/vinod/Desktop/CTScan/sample_dataset_for_testing/fullsampledata/subset0mask/1.3.6.1.4.1.14519.5.2.1.6279.6001.105756658031515062000744821260/1.tiff\")\n",
    "\n",
    "                      \n",
    "struct_arr2 = struct_arr.T\n",
    "plt.imshow(struct_arr2)"
   ]
  }
 ],
 "metadata": {
  "accelerator": "GPU",
  "colab": {
   "collapsed_sections": [],
   "name": "Medical-image-CNN-basic-abnormality-detection.ipynb",
   "provenance": [],
   "toc_visible": true,
   "version": "0.3.2"
  },
  "kernelspec": {
   "display_name": "Python 3",
   "language": "python",
   "name": "python3"
  },
  "language_info": {
   "codemirror_mode": {
    "name": "ipython",
    "version": 3
   },
   "file_extension": ".py",
   "mimetype": "text/x-python",
   "name": "python",
   "nbconvert_exporter": "python",
   "pygments_lexer": "ipython3",
   "version": "3.7.2"
  }
 },
 "nbformat": 4,
 "nbformat_minor": 2
}
